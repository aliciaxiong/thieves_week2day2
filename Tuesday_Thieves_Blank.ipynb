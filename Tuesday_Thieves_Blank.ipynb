{
 "cells": [
  {
   "cell_type": "markdown",
   "metadata": {},
   "source": [
    "# Functions, Scoping, Data Collections 1 & List Comprehensions"
   ]
  },
  {
   "attachments": {},
   "cell_type": "markdown",
   "metadata": {},
   "source": [
    "## Tasks Today:\n",
    "\n",
    "1) String Manipulation <br>\n",
    " &nbsp;&nbsp;&nbsp;&nbsp; a) strip() <br>\n",
    " &nbsp;&nbsp;&nbsp;&nbsp; b) title() <br>\n",
    "1) Working With Lists <br>\n",
    " &nbsp;&nbsp;&nbsp;&nbsp; a) min() <br>\n",
    " &nbsp;&nbsp;&nbsp;&nbsp; b) max() <br>\n",
    " &nbsp;&nbsp;&nbsp;&nbsp; c) sum() <br>\n",
    " &nbsp;&nbsp;&nbsp;&nbsp; d) sort() <br>\n",
    " &nbsp;&nbsp;&nbsp;&nbsp; e) Copying a List <br>\n",
    " &nbsp;&nbsp;&nbsp;&nbsp; i) Checking an Empty List <br>\n",
    " &nbsp;&nbsp;&nbsp;&nbsp; j) Removing Instances with a Loop <br>\n",
    "1) List Comprehensions <br>\n",
    "2) Tuples <br>\n",
    " &nbsp;&nbsp;&nbsp;&nbsp; a) sorted() <br>\n",
    "1) Functions <br>\n",
    " &nbsp;&nbsp;&nbsp;&nbsp; a) User-Defined vs. Built-In Functions <br>\n",
    " &nbsp;&nbsp;&nbsp;&nbsp; b) Accepting Parameters <br>\n",
    " &nbsp;&nbsp;&nbsp;&nbsp; c) Default Parameters <br>\n",
    " &nbsp;&nbsp;&nbsp;&nbsp; d) Making an Argument Optional <br>\n",
    " &nbsp;&nbsp;&nbsp;&nbsp; e) Keyword Arguments <br>\n",
    " &nbsp;&nbsp;&nbsp;&nbsp; f) Returning Values <br>\n",
    " &nbsp;&nbsp;&nbsp;&nbsp; g) *args & **kwargs<br>\n",
    " &nbsp;&nbsp;&nbsp;&nbsp; h) Docstring <br>\n",
    " &nbsp;&nbsp;&nbsp;&nbsp; i) Using a User Function in a Loop <br>\n",
    "1) Scope"
   ]
  },
  {
   "cell_type": "markdown",
   "metadata": {},
   "source": [
    "### String Manipulation"
   ]
  },
  {
   "attachments": {},
   "cell_type": "markdown",
   "metadata": {},
   "source": [
    "##### .lstrip() - Remove spaces on the left side of the string\n"
   ]
  },
  {
   "cell_type": "code",
   "execution_count": 1,
   "metadata": {},
   "outputs": [],
   "source": [
    "# string.lstrip()\n",
    "# can pass argument to specify what characters to strip \n",
    "my_str = '            thieves'\n",
    "print(my_str)\n",
    "print(my_str.lstrip())\n"
   ]
  },
  {
   "attachments": {},
   "cell_type": "markdown",
   "metadata": {},
   "source": [
    "##### .rstrip() - Remove spaces on the right side of the string\n"
   ]
  },
  {
   "cell_type": "code",
   "execution_count": 2,
   "metadata": {},
   "outputs": [],
   "source": [
    "# string.rstrip()\n",
    "my_str = 'thieves              '\n",
    "print(my_str)\n",
    "print(my_str.rstrip())\n"
   ]
  },
  {
   "attachments": {},
   "cell_type": "markdown",
   "metadata": {},
   "source": [
    "##### .strip() - Remove spaces at the beginning and at the end of the string"
   ]
  },
  {
   "cell_type": "code",
   "execution_count": 3,
   "metadata": {},
   "outputs": [],
   "source": [
    "# string.strip()\n",
    "my_str = '    thieves       '\n",
    "print(my_str)\n",
    "print(my_str.strip())\n"
   ]
  },
  {
   "attachments": {},
   "cell_type": "markdown",
   "metadata": {},
   "source": [
    "##### .title() - returns a string where the first character in every word is upper case"
   ]
  },
  {
   "cell_type": "code",
   "execution_count": 1,
   "metadata": {},
   "outputs": [
    {
     "name": "stdout",
     "output_type": "stream",
     "text": [
      "Take Whats Not Given\n"
     ]
    }
   ],
   "source": [
    "# string.title()\n",
    "cohort_motto = 'take whats not given'\n",
    "print(cohort_motto.title())\n",
    "\n"
   ]
  },
  {
   "cell_type": "markdown",
   "metadata": {},
   "source": [
    "### String Exercise <br>\n",
    "<p>Strip all white space and capitalize every name in the list given</p>"
   ]
  },
  {
   "cell_type": "markdown",
   "metadata": {},
   "source": []
  },
  {
   "cell_type": "code",
   "execution_count": 2,
   "metadata": {},
   "outputs": [
    {
     "name": "stdout",
     "output_type": "stream",
     "text": [
      "Connor\n",
      "Max\n",
      "Evan\n",
      "Jordan\n"
     ]
    }
   ],
   "source": [
    "names = ['    coNNor', 'max', ' EVan ', 'JORDAN']\n",
    "# HINT: You will need to use a for loop for iteration\n",
    "## string.strip()\n",
    "# my_str = '    thieves       '\n",
    "# print(my_str)\n",
    "# print(my_str.strip())\n",
    "\n",
    "for name in names: \n",
    "    name = name.title()\n",
    "    name = name.strip()\n",
    "    print(name)"
   ]
  },
  {
   "cell_type": "markdown",
   "metadata": {},
   "source": [
    "### Working With Lists"
   ]
  },
  {
   "attachments": {},
   "cell_type": "markdown",
   "metadata": {},
   "source": [
    "##### min() - returns the item with the lowest value, or the item with the lowest value in an iterable."
   ]
  },
  {
   "cell_type": "code",
   "execution_count": 3,
   "metadata": {},
   "outputs": [
    {
     "name": "stdout",
     "output_type": "stream",
     "text": [
      "-4\n"
     ]
    }
   ],
   "source": [
    "# min(list)\n",
    "grades = [0, 2, 2, 4, 5, -4]\n",
    "print(min(grades))"
   ]
  },
  {
   "attachments": {},
   "cell_type": "markdown",
   "metadata": {},
   "source": [
    "##### max() - returns the item with the highest value, or the item with the highest value in an iterable."
   ]
  },
  {
   "cell_type": "code",
   "execution_count": 5,
   "metadata": {},
   "outputs": [
    {
     "name": "stdout",
     "output_type": "stream",
     "text": [
      "99\n"
     ]
    }
   ],
   "source": [
    "# max(list)\n",
    "\n",
    "grades = [0, 2, 2, 4, 5, -4, 99]\n",
    "print(max(grades))"
   ]
  },
  {
   "attachments": {},
   "cell_type": "markdown",
   "metadata": {},
   "source": [
    "##### sum() - returns a number, the sum of all items in an iterable."
   ]
  },
  {
   "cell_type": "code",
   "execution_count": 4,
   "metadata": {},
   "outputs": [
    {
     "name": "stdout",
     "output_type": "stream",
     "text": [
      "9\n"
     ]
    }
   ],
   "source": [
    "# sum(list)\n",
    "grades = [0, 2, 2, 4, 5, -4]\n",
    "print(sum(grades))"
   ]
  },
  {
   "attachments": {},
   "cell_type": "markdown",
   "metadata": {},
   "source": [
    "##### sorted() - returns a sorted list of the specified iterable object."
   ]
  },
  {
   "cell_type": "code",
   "execution_count": 7,
   "metadata": {},
   "outputs": [
    {
     "name": "stdout",
     "output_type": "stream",
     "text": [
      "[-4, 0, 2, 2, 4, 5]\n",
      "[-4, 0, 2, 2, 4, 5]\n"
     ]
    }
   ],
   "source": [
    "# sorted(list)\n",
    "# sorted does not effect the original list, it returns a copy\n",
    "# can pass argument to reverse sorted order\n",
    "\n",
    "grades = [0, 2, 2, 4, 5, -4]\n",
    "print(sorted(grades))\n",
    "print(sorted(grades, reserve=True)) #if you use True, it goes into reverse order"
   ]
  },
  {
   "cell_type": "markdown",
   "metadata": {},
   "source": [
    "##### .sort() <br>\n",
    "<p>Difference between sort and sorted, is that sorted doesn't change original list it returns a copy, while .sort changes the original list</p>"
   ]
  },
  {
   "cell_type": "code",
   "execution_count": 9,
   "metadata": {},
   "outputs": [
    {
     "name": "stdout",
     "output_type": "stream",
     "text": [
      "[3, 6, 7, 28, 45, 99]\n"
     ]
    }
   ],
   "source": [
    "# list.sort()\n",
    "# use sorted when you don't want to alter original list, use .sort() when you want to alter original list\n",
    "ages = [28, 7, 3, 6, 99, 45]\n",
    "ages.sort()\n",
    "print(ages)"
   ]
  },
  {
   "cell_type": "markdown",
   "metadata": {},
   "source": [
    "##### Copying a List"
   ]
  },
  {
   "cell_type": "code",
   "execution_count": 10,
   "metadata": {},
   "outputs": [
    {
     "name": "stdout",
     "output_type": "stream",
     "text": [
      "['daniel', 'lee', 'adrienne', 'heather']\n"
     ]
    }
   ],
   "source": [
    "# [:] copies a list, doesn't alter original\n",
    "names = ['daniel', 'lee', 'adrienne', 'heather']\n",
    "names_copy = names[:]\n",
    "print(names_copy)\n"
   ]
  },
  {
   "cell_type": "markdown",
   "metadata": {},
   "source": [
    "##### Checking an Empty List"
   ]
  },
  {
   "cell_type": "code",
   "execution_count": 11,
   "metadata": {},
   "outputs": [
    {
     "name": "stdout",
     "output_type": "stream",
     "text": [
      "Not Empty\n"
     ]
    }
   ],
   "source": [
    "# if list1: or if list1 == []:\n",
    "names = ['daniel', 'lee', 'adrienne', 'heather']\n",
    "\n",
    "if names: \n",
    "    print('Not Empty')\n",
    "else: \n",
    "    print('Empty')"
   ]
  },
  {
   "cell_type": "markdown",
   "metadata": {},
   "source": [
    "##### Removing Instances with a Loop"
   ]
  },
  {
   "cell_type": "code",
   "execution_count": 16,
   "metadata": {},
   "outputs": [
    {
     "name": "stdout",
     "output_type": "stream",
     "text": [
      "['alicia', 'alex', 'anthony', 'maria', 'daniel', 'christian']\n",
      "['alicia', 'alex', 'maria', 'daniel', 'christian']\n"
     ]
    }
   ],
   "source": [
    "# while/for, remove\n",
    "students = ['alicia', 'alex', 'anthony', 'maria', 'daniel', 'christian']\n",
    "# While loop\n",
    "while 'Alex' in students:\n",
    "    students.remove('Alex')\n",
    "    break\n",
    "print(students)\n",
    "\n",
    "# For Loop\n",
    "for student in students: \n",
    "    if (student == 'anthony'):\n",
    "        students.remove(student)\n",
    "print(students)\n",
    "    "
   ]
  },
  {
   "cell_type": "markdown",
   "metadata": {},
   "source": [
    "### List Exercise <br>\n",
    "<p>Remove all duplicates<br><b>Extra: Create a program that will remove any duplicates from a given list</b></p>"
   ]
  },
  {
   "cell_type": "code",
   "execution_count": 18,
   "metadata": {},
   "outputs": [
    {
     "name": "stdout",
     "output_type": "stream",
     "text": [
      "['connor']\n"
     ]
    }
   ],
   "source": [
    "names = ['connor', 'connor', 'bob', 'connor', 'evan', 'max', 'evan', 2, 2, 2, 3, 3, 4, 'bob', 'kevin']\n",
    "# Hint 1: You will need an append\n",
    "# Hint 2: Using an empty list will make life easier\n",
    "\n",
    "# .append() - Add element to end of list\n",
    "# students.append('Ricardo')\n",
    "# print(students)\n",
    "\n",
    "def duplicates_out(name_list):\n",
    "    result = []\n",
    "    for item in name_list: \n",
    "        if item not in result: \n",
    "            result.append(item)\n",
    "        return result\n",
    "# output = duplicates_out(names)\n",
    "print (duplicates_out(names))"
   ]
  },
  {
   "attachments": {},
   "cell_type": "markdown",
   "metadata": {},
   "source": [
    "#### List Comprehension - offers a shorter syntax when you want to create a new list based on the values of an existing list."
   ]
  },
  {
   "attachments": {},
   "cell_type": "markdown",
   "metadata": {},
   "source": [
    "#### Syntax - newlist = [expression for item in iterable if condition == True]\n",
    "##### The return value is a new list, leaving the old list unchanged.\n",
    "##### The condition is like a filter that only accepts the items that valuate to True."
   ]
  },
  {
   "cell_type": "code",
   "execution_count": 19,
   "metadata": {},
   "outputs": [
    {
     "name": "stdout",
     "output_type": "stream",
     "text": [
      "[0, 1, 2, 3, 4, 5, 6, 7, 8, 9]\n",
      "[0, 1, 2, 3, 4, 5, 6, 7, 8, 9]\n"
     ]
    }
   ],
   "source": [
    "# number comprehension\n",
    "\n",
    "#Regular For Loop\n",
    "nums_list = []\n",
    "\n",
    "for num in range(10):\n",
    "    nums_list.append(num)\n",
    "print(nums_list)\n",
    "\n",
    "# List Comprehension\n",
    "nums_list_comp = [num for num in range(10)]\n",
    "print(nums_list_comp)\n",
    "\n",
    "\n"
   ]
  },
  {
   "attachments": {},
   "cell_type": "markdown",
   "metadata": {},
   "source": [
    "There are a few benefits to using List comprehensions. The most obvious would be that we now have shorter code to work with instead of using 3+ lines of code in the for loop variant.\n",
    "\n",
    "More time-efficient and space-efficient than loops.\n",
    "\n",
    "Lastly, list comprehensions are considered the \"pythonic\" way to write code."
   ]
  },
  {
   "cell_type": "code",
   "execution_count": 21,
   "metadata": {},
   "outputs": [
    {
     "name": "stdout",
     "output_type": "stream",
     "text": [
      "[0, 1, 4, 9, 16, 25, 36, 49, 64, 81]\n",
      "[0, 1, 4, 9, 16, 25, 36, 49, 64, 81]\n"
     ]
    }
   ],
   "source": [
    "# square number comprehension\n",
    "nums_list = []\n",
    "\n",
    "for num in range(10):\n",
    "    nums_list.append(num**2)\n",
    "print(nums_list)\n",
    "\n",
    "# For Loop\n",
    "nums_list_comp = [num**2 for num in range(10)]\n",
    "print (nums_list_comp)\n",
    "\n",
    "# List Comprehension\n"
   ]
  },
  {
   "cell_type": "code",
   "execution_count": 24,
   "metadata": {},
   "outputs": [
    {
     "ename": "NameError",
     "evalue": "name 'letters_list' is not defined",
     "output_type": "error",
     "traceback": [
      "\u001b[1;31m---------------------------------------------------------------------------\u001b[0m",
      "\u001b[1;31mNameError\u001b[0m                                 Traceback (most recent call last)",
      "\u001b[1;32mc:\\Users\\Alicia\\Documents\\Coding Temple\\week2\\day2\\Python\\Tuesday_Thieves_Blank.ipynb Cell 39\u001b[0m line \u001b[0;36m8\n\u001b[0;32m      <a href='vscode-notebook-cell:/c%3A/Users/Alicia/Documents/Coding%20Temple/week2/day2/Python/Tuesday_Thieves_Blank.ipynb#X53sZmlsZQ%3D%3D?line=5'>6</a>\u001b[0m \u001b[39mfor\u001b[39;00m name \u001b[39min\u001b[39;00m students:\n\u001b[0;32m      <a href='vscode-notebook-cell:/c%3A/Users/Alicia/Documents/Coding%20Temple/week2/day2/Python/Tuesday_Thieves_Blank.ipynb#X53sZmlsZQ%3D%3D?line=6'>7</a>\u001b[0m     letter_list\u001b[39m.\u001b[39mappend(name[\u001b[39m0\u001b[39m])\n\u001b[1;32m----> <a href='vscode-notebook-cell:/c%3A/Users/Alicia/Documents/Coding%20Temple/week2/day2/Python/Tuesday_Thieves_Blank.ipynb#X53sZmlsZQ%3D%3D?line=7'>8</a>\u001b[0m \u001b[39mprint\u001b[39m(letters_list)\n\u001b[0;32m     <a href='vscode-notebook-cell:/c%3A/Users/Alicia/Documents/Coding%20Temple/week2/day2/Python/Tuesday_Thieves_Blank.ipynb#X53sZmlsZQ%3D%3D?line=9'>10</a>\u001b[0m \u001b[39m# List comprehension\u001b[39;00m\n\u001b[0;32m     <a href='vscode-notebook-cell:/c%3A/Users/Alicia/Documents/Coding%20Temple/week2/day2/Python/Tuesday_Thieves_Blank.ipynb#X53sZmlsZQ%3D%3D?line=10'>11</a>\u001b[0m letters_list_comp \u001b[39m=\u001b[39m [name[\u001b[39m0\u001b[39m] \u001b[39mfor\u001b[39;00m name \u001b[39min\u001b[39;00m students]\n",
      "\u001b[1;31mNameError\u001b[0m: name 'letters_list' is not defined"
     ]
    }
   ],
   "source": [
    "# string comprehension\n",
    "students = ['alicia', 'robert', 'ian', 'logan', 'julian']\n",
    "\n",
    "# For loop\n",
    "letter_list = []\n",
    "for name in students:\n",
    "    letter_list.append(name[0])\n",
    "print(letters_list)\n",
    "\n",
    "# List comprehension\n",
    "letters_list_comp = [name[0] for name in students]\n",
    "print(letters_list_comp)"
   ]
  },
  {
   "attachments": {},
   "cell_type": "markdown",
   "metadata": {},
   "source": [
    "### Tuples - Collection which is ordered, unchangeable, and allow duplicate values.\n"
   ]
  },
  {
   "cell_type": "code",
   "execution_count": 17,
   "metadata": {},
   "outputs": [],
   "source": [
    "codes = (123,322,143)\n",
    "codes2 = 983, 493, 242\n",
    "\n",
    "# Looping over a tuple\n"
   ]
  },
  {
   "cell_type": "markdown",
   "metadata": {},
   "source": [
    "##### sorted()"
   ]
  },
  {
   "cell_type": "code",
   "execution_count": 25,
   "metadata": {},
   "outputs": [
    {
     "name": "stdout",
     "output_type": "stream",
     "text": [
      "(123, 143, 322)\n"
     ]
    }
   ],
   "source": [
    "codes = (123,322,143)\n",
    "codes2 = 983, 493, 242\n",
    "sorted_codes = sorted(codes)\n",
    "converted_back = tuple(sorted_codes)\n",
    "print(converted_back)"
   ]
  },
  {
   "cell_type": "markdown",
   "metadata": {},
   "source": [
    "##### Adding values to a Tuple"
   ]
  },
  {
   "cell_type": "code",
   "execution_count": 26,
   "metadata": {},
   "outputs": [
    {
     "name": "stdout",
     "output_type": "stream",
     "text": [
      "(123, 322, 143, 1)\n"
     ]
    }
   ],
   "source": [
    "print(codes + (1,))"
   ]
  },
  {
   "cell_type": "markdown",
   "metadata": {},
   "source": [
    "## Functions"
   ]
  },
  {
   "cell_type": "markdown",
   "metadata": {},
   "source": [
    "##### User-Defined vs. Built-In Functions"
   ]
  },
  {
   "cell_type": "code",
   "execution_count": 30,
   "metadata": {},
   "outputs": [
    {
     "name": "stdout",
     "output_type": "stream",
     "text": [
      "Hello Thieves\n",
      "<function greeting at 0x000001D002467060>\n"
     ]
    }
   ],
   "source": [
    "#User-defined\n",
    "#def is to start a function and the next word is your name of the function\n",
    "\n",
    "def greeting():\n",
    "    return 'Hello Thieves'\n",
    "greeting() #return the value to the actual function, this is the actual way to return\n",
    "\n",
    "print(greeting()) #printing is just seeing it in the terminal and using it in the terminal\n",
    "\n",
    "#Built-In, showing the function in memory\n",
    "\n",
    "print(greeting)\n",
    "\n",
    "#Built_in, calling the function\n",
    "\n"
   ]
  },
  {
   "cell_type": "markdown",
   "metadata": {},
   "source": [
    "##### Accepting Parameters"
   ]
  },
  {
   "cell_type": "code",
   "execution_count": 21,
   "metadata": {},
   "outputs": [],
   "source": [
    "# Order matters\n",
    "# A variable can be of any type of object\n",
    "def full_name(f_name, l_name):\n",
    "    return f'{f_name} {l_name}'\n",
    "\n",
    "print(full_name('christian', 'sachs'))\n",
    "print(full_name('Jack', 'Buck'))\n"
   ]
  },
  {
   "cell_type": "markdown",
   "metadata": {},
   "source": [
    "##### Default Parameters"
   ]
  },
  {
   "cell_type": "code",
   "execution_count": 22,
   "metadata": {},
   "outputs": [],
   "source": [
    "# default parameters need to be AFTER non-default parameters at all times\n",
    "def cohort(num, name='Thieves'): #orders matter)\n",
    "    return f'{name}-{num}'\n",
    "print(cohort(145, 'padawans'))\n"
   ]
  },
  {
   "cell_type": "markdown",
   "metadata": {},
   "source": [
    "##### Making an Argument Optional"
   ]
  },
  {
   "cell_type": "code",
   "execution_count": 31,
   "metadata": {},
   "outputs": [
    {
     "ename": "SyntaxError",
     "evalue": "unterminated string literal (detected at line 2) (214512337.py, line 2)",
     "output_type": "error",
     "traceback": [
      "\u001b[1;36m  Cell \u001b[1;32mIn[31], line 2\u001b[1;36m\u001b[0m\n\u001b[1;33m    return f'{f_name}{m_name}{l_name}\u001b[0m\n\u001b[1;37m           ^\u001b[0m\n\u001b[1;31mSyntaxError\u001b[0m\u001b[1;31m:\u001b[0m unterminated string literal (detected at line 2)\n"
     ]
    }
   ],
   "source": [
    "def full_name(f_name, l_name, m_name=''):\n",
    "    return f'{f_name}{m_name}{l_name}\n",
    "print(full_name('christian', 'sachs'))"
   ]
  },
  {
   "attachments": {},
   "cell_type": "markdown",
   "metadata": {},
   "source": [
    "##### *args/**kwargs (A.K.A. KeyWord Arguments)"
   ]
  },
  {
   "cell_type": "code",
   "execution_count": 33,
   "metadata": {},
   "outputs": [
    {
     "ename": "SyntaxError",
     "evalue": "unterminated string literal (detected at line 9) (162696878.py, line 9)",
     "output_type": "error",
     "traceback": [
      "\u001b[1;36m  Cell \u001b[1;32mIn[33], line 9\u001b[1;36m\u001b[0m\n\u001b[1;33m    print_kwargs('jesse', 'student2='lee')\u001b[0m\n\u001b[1;37m                                        ^\u001b[0m\n\u001b[1;31mSyntaxError\u001b[0m\u001b[1;31m:\u001b[0m unterminated string literal (detected at line 9)\n"
     ]
    }
   ],
   "source": [
    "# *args = unlimited amount of arguments, function stores as tuple\n",
    "# **kwargs = unlimited amount of keyword arguments, function stores as dictionary\n",
    "def print_args(*args):\n",
    "    print(args)\n",
    "\n",
    "print_args('jj', 24, True)\n",
    "def print_kwargs(**kwargs): #kwargs means keyword arguements \n",
    "\n",
    "    print_kwargs('jesse', 'student2='lee')\n",
    "                 "
   ]
  },
  {
   "cell_type": "markdown",
   "metadata": {},
   "source": [
    "##### Docstring"
   ]
  },
  {
   "cell_type": "code",
   "execution_count": 35,
   "metadata": {},
   "outputs": [],
   "source": [
    "# Allows you to write documentation for user-defined functions \"\"\" \n",
    "def print_name(list_of_names):\n",
    "    \"\"\"\n",
    "        This function takes in a list data type and prints each\n",
    "        item in the list.\n",
    "    \"\"\"\n",
    "    for name in list_of_names:\n",
    "        print(name)\n"
   ]
  },
  {
   "cell_type": "markdown",
   "metadata": {},
   "source": [
    "##### Using a User Function in a Loop"
   ]
  },
  {
   "cell_type": "code",
   "execution_count": 37,
   "metadata": {},
   "outputs": [
    {
     "name": "stdout",
     "output_type": "stream",
     "text": [
      "sleep\n",
      "work\n",
      "quick\n",
      "\n"
     ]
    },
    {
     "ename": "KeyboardInterrupt",
     "evalue": "Interrupted by user",
     "output_type": "error",
     "traceback": [
      "\u001b[1;31m---------------------------------------------------------------------------\u001b[0m",
      "\u001b[1;31mKeyboardInterrupt\u001b[0m                         Traceback (most recent call last)",
      "\u001b[1;32mc:\\Users\\Alicia\\Documents\\Coding Temple\\week2\\day2\\Python\\Tuesday_Thieves_Blank.ipynb Cell 60\u001b[0m line \u001b[0;36m4\n\u001b[0;32m      <a href='vscode-notebook-cell:/c%3A/Users/Alicia/Documents/Coding%20Temple/week2/day2/Python/Tuesday_Thieves_Blank.ipynb#Y113sZmlsZQ%3D%3D?line=1'>2</a>\u001b[0m     \u001b[39mprint\u001b[39m(choice)\n\u001b[0;32m      <a href='vscode-notebook-cell:/c%3A/Users/Alicia/Documents/Coding%20Temple/week2/day2/Python/Tuesday_Thieves_Blank.ipynb#Y113sZmlsZQ%3D%3D?line=2'>3</a>\u001b[0m \u001b[39mwhile\u001b[39;00m \u001b[39mTrue\u001b[39;00m: \n\u001b[1;32m----> <a href='vscode-notebook-cell:/c%3A/Users/Alicia/Documents/Coding%20Temple/week2/day2/Python/Tuesday_Thieves_Blank.ipynb#Y113sZmlsZQ%3D%3D?line=3'>4</a>\u001b[0m     user_choice \u001b[39m=\u001b[39m \u001b[39minput\u001b[39;49m(\u001b[39m'\u001b[39;49m\u001b[39mWhat would you like to do?\u001b[39;49m\u001b[39m'\u001b[39;49m)\n\u001b[0;32m      <a href='vscode-notebook-cell:/c%3A/Users/Alicia/Documents/Coding%20Temple/week2/day2/Python/Tuesday_Thieves_Blank.ipynb#Y113sZmlsZQ%3D%3D?line=4'>5</a>\u001b[0m     \u001b[39mif\u001b[39;00m user_choice \u001b[39m==\u001b[39m \u001b[39m'\u001b[39m\u001b[39mquit\u001b[39m\u001b[39m'\u001b[39m:\n\u001b[0;32m      <a href='vscode-notebook-cell:/c%3A/Users/Alicia/Documents/Coding%20Temple/week2/day2/Python/Tuesday_Thieves_Blank.ipynb#Y113sZmlsZQ%3D%3D?line=5'>6</a>\u001b[0m         \u001b[39mbreak\u001b[39;00m\n",
      "File \u001b[1;32m~\\AppData\\Roaming\\Python\\Python311\\site-packages\\ipykernel\\kernelbase.py:1202\u001b[0m, in \u001b[0;36mKernel.raw_input\u001b[1;34m(self, prompt)\u001b[0m\n\u001b[0;32m   1200\u001b[0m     msg \u001b[39m=\u001b[39m \u001b[39m\"\u001b[39m\u001b[39mraw_input was called, but this frontend does not support input requests.\u001b[39m\u001b[39m\"\u001b[39m\n\u001b[0;32m   1201\u001b[0m     \u001b[39mraise\u001b[39;00m StdinNotImplementedError(msg)\n\u001b[1;32m-> 1202\u001b[0m \u001b[39mreturn\u001b[39;00m \u001b[39mself\u001b[39;49m\u001b[39m.\u001b[39;49m_input_request(\n\u001b[0;32m   1203\u001b[0m     \u001b[39mstr\u001b[39;49m(prompt),\n\u001b[0;32m   1204\u001b[0m     \u001b[39mself\u001b[39;49m\u001b[39m.\u001b[39;49m_parent_ident[\u001b[39m\"\u001b[39;49m\u001b[39mshell\u001b[39;49m\u001b[39m\"\u001b[39;49m],\n\u001b[0;32m   1205\u001b[0m     \u001b[39mself\u001b[39;49m\u001b[39m.\u001b[39;49mget_parent(\u001b[39m\"\u001b[39;49m\u001b[39mshell\u001b[39;49m\u001b[39m\"\u001b[39;49m),\n\u001b[0;32m   1206\u001b[0m     password\u001b[39m=\u001b[39;49m\u001b[39mFalse\u001b[39;49;00m,\n\u001b[0;32m   1207\u001b[0m )\n",
      "File \u001b[1;32m~\\AppData\\Roaming\\Python\\Python311\\site-packages\\ipykernel\\kernelbase.py:1245\u001b[0m, in \u001b[0;36mKernel._input_request\u001b[1;34m(self, prompt, ident, parent, password)\u001b[0m\n\u001b[0;32m   1242\u001b[0m \u001b[39mexcept\u001b[39;00m \u001b[39mKeyboardInterrupt\u001b[39;00m:\n\u001b[0;32m   1243\u001b[0m     \u001b[39m# re-raise KeyboardInterrupt, to truncate traceback\u001b[39;00m\n\u001b[0;32m   1244\u001b[0m     msg \u001b[39m=\u001b[39m \u001b[39m\"\u001b[39m\u001b[39mInterrupted by user\u001b[39m\u001b[39m\"\u001b[39m\n\u001b[1;32m-> 1245\u001b[0m     \u001b[39mraise\u001b[39;00m \u001b[39mKeyboardInterrupt\u001b[39;00m(msg) \u001b[39mfrom\u001b[39;00m \u001b[39mNone\u001b[39;00m\n\u001b[0;32m   1246\u001b[0m \u001b[39mexcept\u001b[39;00m \u001b[39mException\u001b[39;00m:\n\u001b[0;32m   1247\u001b[0m     \u001b[39mself\u001b[39m\u001b[39m.\u001b[39mlog\u001b[39m.\u001b[39mwarning(\u001b[39m\"\u001b[39m\u001b[39mInvalid Message:\u001b[39m\u001b[39m\"\u001b[39m, exc_info\u001b[39m=\u001b[39m\u001b[39mTrue\u001b[39;00m)\n",
      "\u001b[1;31mKeyboardInterrupt\u001b[0m: Interrupted by user"
     ]
    }
   ],
   "source": [
    "\n",
    "    def print_user_choice(choice):\n",
    "        print(choice)\n",
    "    while True: \n",
    "        user_choice = input('What would you like to do?')\n",
    "        if user_choice == 'quit':\n",
    "            break\n",
    "        else: \n",
    "            print_user_choice  (user_choice)"
   ]
  },
  {
   "cell_type": "markdown",
   "metadata": {},
   "source": [
    "## Function Exercise <br>\n",
    "<p>Write a function that loops through a list of first_names and a list of last_names, combines the two and return a list of full_names</p>"
   ]
  },
  {
   "cell_type": "code",
   "execution_count": 40,
   "metadata": {},
   "outputs": [
    {
     "ename": "SyntaxError",
     "evalue": "unterminated string literal (detected at line 18) (3084030747.py, line 18)",
     "output_type": "error",
     "traceback": [
      "\u001b[1;36m  Cell \u001b[1;32mIn[40], line 18\u001b[1;36m\u001b[0m\n\u001b[1;33m    full_name.append(f'{first_name[idx]})\u001b[0m\n\u001b[1;37m                     ^\u001b[0m\n\u001b[1;31mSyntaxError\u001b[0m\u001b[1;31m:\u001b[0m unterminated string literal (detected at line 18)\n"
     ]
    }
   ],
   "source": [
    "first_name = ['John', 'Evan', 'Jordan', 'Max']\n",
    "last_name = ['Smith', 'Smith', 'Williams', 'Bell']\n",
    "\n",
    "# Output: ['John Smith', 'Evan Smith', 'Jordan Williams', 'Max Bell']\n",
    "\n",
    "first_name = ['John', 'Evan', 'Jordan', 'Max']\n",
    "last_name = ['Smith', 'Smith', 'Williams', 'Bell']\n",
    "# Output: ['John Smith', 'Evan Smith', 'Jordan Williams', 'Max Bell']\n",
    "def firstLastName(firstArr, lastArr):\n",
    "    fullNames = []\n",
    "    for i in range(len(firstArr)):\n",
    "        fullNames.append(firstArr[i] + \" \" + lastArr[i])\n",
    "    return fullNames\n",
    "print(firstLastName(first_name, last_name))\n",
    "\n",
    "#full_names = []\n",
    "for idx in range(len(first_name)):\n",
    "    full_name.append(f'{first_name[idx]})"
   ]
  },
  {
   "cell_type": "markdown",
   "metadata": {},
   "source": [
    "## Scope <br>\n",
    "<p>Scope refers to the ability to access variables, different types of scope include:<br>a) Global<br>b) Function (local)<br>c) Class (local)</p>"
   ]
  },
  {
   "cell_type": "code",
   "execution_count": 39,
   "metadata": {},
   "outputs": [
    {
     "name": "stdout",
     "output_type": "stream",
     "text": [
      "3 12\n"
     ]
    }
   ],
   "source": [
    "# Global\n",
    "global_num = 3\n",
    "\n",
    "# Local\n",
    "def my_num(): \n",
    "    local_num = 12\n",
    "    print(global_num, local_num)\n",
    "my_num()\n",
    "#you can't print out from a local num, but you can print out from global enviroement. You can reach out its outer layer."
   ]
  },
  {
   "cell_type": "markdown",
   "metadata": {},
   "source": [
    "# Exercises"
   ]
  },
  {
   "cell_type": "markdown",
   "metadata": {},
   "source": [
    "## Exercise 1 <br>\n",
    "<p>Given a list as a parameter,write a function that returns a list of numbers that are less than ten</b></i></p><br>\n",
    "<p> For example: Say your input parameter to the function is [1,11,14,5,8,9]...Your output should [1,5,8,9]</p>"
   ]
  },
  {
   "cell_type": "code",
   "execution_count": 25,
   "metadata": {},
   "outputs": [],
   "source": [
    "# Use the following list - [1,11,14,5,8,9]\n",
    "# if give 2 solutions with global comprehension, you will get that 1 point.\n",
    "\n",
    "# Global\n",
    "# global_num = 3\n",
    "\n",
    "# Local\n",
    "# def my_num(): \n",
    "#     local_num = 12\n",
    "#     print(global_num, local_num)\n",
    "# my_num()\n",
    "#you can't print out from a local num, but you can print out from global enviroement. You can reach out its outer layer.\n",
    "\n",
    "#First Solution\n",
    "l_1 = [1,11,14,5,8,9]\n",
    "\n",
    "def num_list(l_1):\n",
    "      for num in l_1:\n",
    "        if num < 10:\n",
    "            return num_list(l_1)\n",
    "\n",
    "#Global Attempt Solution \n",
    "\n",
    "\n",
    "\n"
   ]
  },
  {
   "cell_type": "markdown",
   "metadata": {},
   "source": [
    "## Exercise 2 <br>\n",
    "<p>Write a function that takes in two lists and returns the two lists merged together and sorted<br>\n",
    "<b><i>Hint: You can use the .sort() method</i></b></p>"
   ]
  },
  {
   "cell_type": "code",
   "execution_count": 24,
   "metadata": {},
   "outputs": [],
   "source": [
    "#sorted function..has to store into a variable if you do it. \n",
    "\n",
    "l_1 = [1,2,3,4,5,6]\n",
    "l_2 = [3,4,5,6,7,8,10]\n",
    "\n",
    "def sortcode(main_list): \n",
    "        main_list = (l_1 + l_2)\n",
    "        main_list.sort()\n",
    "        return main_list\n"
   ]
  }
 ],
 "metadata": {
  "kernelspec": {
   "display_name": "Python 3",
   "language": "python",
   "name": "python3"
  },
  "language_info": {
   "codemirror_mode": {
    "name": "ipython",
    "version": 3
   },
   "file_extension": ".py",
   "mimetype": "text/x-python",
   "name": "python",
   "nbconvert_exporter": "python",
   "pygments_lexer": "ipython3",
   "version": "3.11.5"
  },
  "vscode": {
   "interpreter": {
    "hash": "aa82987a71ca0339a52998cd22613b0c002bda8349fa32a0cb67ceec3936a2bf"
   }
  }
 },
 "nbformat": 4,
 "nbformat_minor": 2
}
